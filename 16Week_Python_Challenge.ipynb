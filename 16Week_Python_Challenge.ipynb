{
 "cells": [
  {
   "cell_type": "markdown",
   "id": "d72ee5e7",
   "metadata": {},
   "source": [
    "To submit your entries, make a LinkedIn post with a screenshot of your answers. You can explain your thought process if you'd like. Just make sure to tag the Data in Motion LLC company page. \n",
    "\n",
    "### Problem\n",
    "\n",
    "#### Create a function that takes a single string as argument and returns an ordered list containing the indices of all capital letters in the string.\n",
    "\n",
    "Examples:\n",
    "\n",
    "* index_of_caps(\"eDaBiT\") ➞ [1, 3, 5]\n",
    "\n",
    "* index_of_caps(\"eQuINoX\") ➞ [1, 3, 4, 6]\n",
    "\n",
    "* index_of_caps(\"determine\") ➞ []\n",
    "\n",
    "* index_of_caps(\"STRIKE\") ➞ [0, 1, 2, 3, 4, 5]\n",
    "\n",
    "* index_of_caps(\"sUn\") ➞ [1]"
   ]
  },
  {
   "cell_type": "code",
   "execution_count": 3,
   "id": "2df6f283",
   "metadata": {},
   "outputs": [],
   "source": [
    "import re"
   ]
  },
  {
   "cell_type": "code",
   "execution_count": 4,
   "id": "b6aa2f05",
   "metadata": {},
   "outputs": [],
   "source": [
    "required_words = [\"eDaBiT\", \"eQuINoX\", \"determine\", \"STRIKE\", \"sUn\",'sfsafFFFfsafsdfsafdEEdfsdfeeFEWFSAFf']"
   ]
  },
  {
   "cell_type": "markdown",
   "id": "b9d99109",
   "metadata": {},
   "source": [
    "# Function 1"
   ]
  },
  {
   "cell_type": "code",
   "execution_count": 3,
   "id": "87944e0a",
   "metadata": {
    "scrolled": true
   },
   "outputs": [],
   "source": [
    "def index_of_caps(word):\n",
    "    capital_letters = []\n",
    "    for i,x in enumerate(word):\n",
    "#         print(i,x)\n",
    "        right_match = re.search(r'[A-Z]',x)\n",
    "        if right_match:\n",
    "#             print(i,right_match.group(0))\n",
    "            capital_letters.append(i)\n",
    "    return capital_letters"
   ]
  },
  {
   "cell_type": "code",
   "execution_count": 4,
   "id": "fe51a3c5",
   "metadata": {},
   "outputs": [
    {
     "name": "stdout",
     "output_type": "stream",
     "text": [
      "[1, 3, 5]\n",
      "[1, 3, 4, 6]\n",
      "[]\n",
      "[0, 1, 2, 3, 4, 5]\n",
      "[1]\n",
      "[5, 6, 7, 19, 20, 28, 29, 30, 31, 32, 33, 34]\n"
     ]
    }
   ],
   "source": [
    "for i in required_words:\n",
    "#     print(i)\n",
    "    print(index_of_caps(i))"
   ]
  },
  {
   "cell_type": "markdown",
   "id": "e61f7556",
   "metadata": {},
   "source": [
    "# Function 2"
   ]
  },
  {
   "cell_type": "markdown",
   "id": "fd94a65f",
   "metadata": {},
   "source": [
    "```\n",
    "  List Comprehension structure: [ <expression> for <variable> in <list> [condition] ]\n",
    "```"
   ]
  },
  {
   "cell_type": "code",
   "execution_count": 13,
   "id": "fb5c0be2",
   "metadata": {},
   "outputs": [],
   "source": [
    "def index_of_caps_rev2(word):\n",
    "    '''Code Base: list comprehension and RegEx\n",
    "    Regex's pattern recognition versitility allows me to find the required match. Upon finding the match, I used the\n",
    "    conditional statement to pull the index. '''\n",
    "    index_of_CAP_Letters = [i for i, x in enumerate(word) if type((re.search(r'[A-Z]',x))) == re.Match]  \n",
    "    return index_of_CAP_Letters"
   ]
  },
  {
   "cell_type": "code",
   "execution_count": 14,
   "id": "1f32e3f4",
   "metadata": {},
   "outputs": [
    {
     "name": "stdout",
     "output_type": "stream",
     "text": [
      "[1, 3, 5]\n",
      "[1, 3, 4, 6]\n",
      "[]\n",
      "[0, 1, 2, 3, 4, 5]\n",
      "[1]\n",
      "[5, 6, 7, 19, 20, 28, 29, 30, 31, 32, 33, 34]\n"
     ]
    }
   ],
   "source": [
    "for i in required_words:\n",
    "#     print(i)\n",
    "    print(index_of_caps_rev2(i))"
   ]
  },
  {
   "cell_type": "code",
   "execution_count": null,
   "id": "a0f0c64e",
   "metadata": {},
   "outputs": [],
   "source": []
  }
 ],
 "metadata": {
  "kernelspec": {
   "display_name": "Python 3",
   "language": "python",
   "name": "python3"
  },
  "language_info": {
   "codemirror_mode": {
    "name": "ipython",
    "version": 3
   },
   "file_extension": ".py",
   "mimetype": "text/x-python",
   "name": "python",
   "nbconvert_exporter": "python",
   "pygments_lexer": "ipython3",
   "version": "3.7.11"
  }
 },
 "nbformat": 4,
 "nbformat_minor": 5
}
