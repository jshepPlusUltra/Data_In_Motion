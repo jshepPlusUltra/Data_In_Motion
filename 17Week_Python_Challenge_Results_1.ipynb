{
 "cells": [
  {
   "cell_type": "markdown",
   "id": "11192ae4",
   "metadata": {},
   "source": [
    "## Questions\n",
    "1. Given a list [\"Elie\", \"Tim\", \"Matt\"], create a variable called answer, which is a new list containing the first letter of each name in the list. \n",
    "2. Given a list [1,2,3,4,5,6], create a new variable called answer2, which is a new list of all the even values. Another good candidate for a list comp. "
   ]
  },
  {
   "cell_type": "code",
   "execution_count": 2,
   "id": "f7803349",
   "metadata": {},
   "outputs": [
    {
     "data": {
      "text/plain": [
       "['E', 'T', 'M']"
      ]
     },
     "execution_count": 2,
     "metadata": {},
     "output_type": "execute_result"
    }
   ],
   "source": [
    "name_list = [\"Elie\", \"Tim\", \"Matt\"]\n",
    "answer = []\n",
    "for a in name_list:\n",
    "    answer.append(a[0])\n",
    "answer"
   ]
  },
  {
   "cell_type": "code",
   "execution_count": 4,
   "id": "2cca37d5",
   "metadata": {},
   "outputs": [
    {
     "data": {
      "text/plain": [
       "['E', 'T', 'M']"
      ]
     },
     "execution_count": 4,
     "metadata": {},
     "output_type": "execute_result"
    }
   ],
   "source": [
    "answer = [letter[0] for letter in name_list]\n",
    "answer"
   ]
  },
  {
   "cell_type": "code",
   "execution_count": 5,
   "id": "156fdd21",
   "metadata": {},
   "outputs": [
    {
     "data": {
      "text/plain": [
       "[2, 4, 6]"
      ]
     },
     "execution_count": 5,
     "metadata": {},
     "output_type": "execute_result"
    }
   ],
   "source": [
    "num_list = [1,2,3,4,5,6]\n",
    "answer2 = []\n",
    "for i in num_list:\n",
    "    if i % 2 == 0:\n",
    "        answer2.append(i)\n",
    "answer2\n",
    "        "
   ]
  },
  {
   "cell_type": "code",
   "execution_count": 7,
   "id": "afd5fa58",
   "metadata": {},
   "outputs": [
    {
     "data": {
      "text/plain": [
       "[2, 4, 6]"
      ]
     },
     "execution_count": 7,
     "metadata": {},
     "output_type": "execute_result"
    }
   ],
   "source": [
    "evens = [even_num for even_num in num_list if even_num % 2 == 0]\n",
    "evens"
   ]
  },
  {
   "cell_type": "code",
   "execution_count": null,
   "id": "22b9fecc",
   "metadata": {},
   "outputs": [],
   "source": []
  },
  {
   "cell_type": "markdown",
   "id": "8139c5f1",
   "metadata": {},
   "source": [
    "Submission:     \n",
    "* To submit your entries, make a LinkedIn post with a screenshot of your answers. You can explain your thought process if you'd like. Just make sure to tag the Data in Motion LLC company page."
   ]
  },
  {
   "cell_type": "code",
   "execution_count": null,
   "id": "a23fd17b",
   "metadata": {},
   "outputs": [],
   "source": []
  }
 ],
 "metadata": {
  "kernelspec": {
   "display_name": "Python 3",
   "language": "python",
   "name": "python3"
  },
  "language_info": {
   "codemirror_mode": {
    "name": "ipython",
    "version": 3
   },
   "file_extension": ".py",
   "mimetype": "text/x-python",
   "name": "python",
   "nbconvert_exporter": "python",
   "pygments_lexer": "ipython3",
   "version": "3.7.11"
  }
 },
 "nbformat": 4,
 "nbformat_minor": 5
}
