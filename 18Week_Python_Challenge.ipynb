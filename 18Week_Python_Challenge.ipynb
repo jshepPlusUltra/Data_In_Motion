{
 "cells": [
  {
   "cell_type": "markdown",
   "id": "da0c5ed0",
   "metadata": {},
   "source": [
    "## Week 18 of our weekly python challenge\n",
    "\n",
    "\n",
    "Question\n",
    "ATM machines allow 4 or 6 digit PIN codes and PIN codes cannot contain anything but exactly 4 digits or exactly 6 digits. Your task is to create a function that takes a string and returns True if the PIN is valid and False if it's not.\n",
    "\n",
    "Examples:\n",
    "\n",
    "* is_valid_PIN(\"1234\") ➞ True\n",
    "\n",
    "* is_valid_PIN(\"12345\") ➞ False\n",
    "\n",
    "* is_valid_PIN(\"a234\") ➞ False\n",
    "\n",
    "* is_valid_PIN(\"\") ➞ False\n",
    "\n",
    "To submit your entries, make a LinkedIn post with a screenshot of your answers. You can explain your thought process if you'd like. Just make sure to tag the Data in Motion LLC company page.\n",
    "\n",
    "Or you can make a post on Twitter tagging our account\n",
    "@LLCdatainmotion \n"
   ]
  },
  {
   "cell_type": "code",
   "execution_count": 1,
   "id": "e05164b4",
   "metadata": {},
   "outputs": [],
   "source": [
    "terms = [\"1234\",\"12345\",\"a234\",'','werfewf3rgtrgvefverg5rgt3wef',9]\n"
   ]
  },
  {
   "cell_type": "code",
   "execution_count": 2,
   "id": "234a4864",
   "metadata": {},
   "outputs": [],
   "source": [
    "def is_valid_PIN(something):\n",
    "    try:\n",
    "        ''' # checking to make sure that I am taking a string. \n",
    "        If I am not taking in a string, then the code will return false'''\n",
    "        len(something)\n",
    "        if (len(something) == 4) or (len(something) == 6): # This check ensures I am only pulling 4 or 6 numbers\n",
    "            try:\n",
    "                something = int(something) # This is to make sure that I only dealing with numbers.\n",
    "                return True\n",
    "            except ValueError:\n",
    "                return False\n",
    "        else:\n",
    "            return False\n",
    "    except TypeError:\n",
    "        return False\n"
   ]
  },
  {
   "cell_type": "code",
   "execution_count": 3,
   "id": "fc227a6f",
   "metadata": {},
   "outputs": [
    {
     "name": "stdout",
     "output_type": "stream",
     "text": [
      "True\n",
      "False\n",
      "False\n",
      "False\n",
      "False\n",
      "False\n"
     ]
    }
   ],
   "source": [
    "for i in terms:\n",
    "    print(is_valid_PIN(i))"
   ]
  },
  {
   "cell_type": "code",
   "execution_count": null,
   "id": "ce7f2ca6",
   "metadata": {},
   "outputs": [],
   "source": []
  }
 ],
 "metadata": {
  "kernelspec": {
   "display_name": "Python 3",
   "language": "python",
   "name": "python3"
  },
  "language_info": {
   "codemirror_mode": {
    "name": "ipython",
    "version": 3
   },
   "file_extension": ".py",
   "mimetype": "text/x-python",
   "name": "python",
   "nbconvert_exporter": "python",
   "pygments_lexer": "ipython3",
   "version": "3.7.11"
  }
 },
 "nbformat": 4,
 "nbformat_minor": 5
}
