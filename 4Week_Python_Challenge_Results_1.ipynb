{
 "cells": [
  {
   "cell_type": "markdown",
   "id": "d89fed14",
   "metadata": {},
   "source": [
    "Problem: Create a function that takes a number as its only argument and returns True if it's less than or equal to zero, otherwise return False.\n",
    "\n",
    "Examples:\n",
    "\n",
    "* less_than_or_equal_to_zero(5) ➞ False\n",
    "\n",
    "* less_than_or_equal_to_zero(0) ➞ True\n",
    "\n",
    "* less_than_or_equal_to_zero(-2) ➞ True"
   ]
  },
  {
   "cell_type": "code",
   "execution_count": 1,
   "id": "79542681",
   "metadata": {},
   "outputs": [],
   "source": [
    "def less_than_or_equal_to_zero(num):\n",
    "#     num = -0.234343\n",
    "    if num <= 0:\n",
    "#         print(\"True\")\n",
    "        return True \n",
    "    else:\n",
    "#         print(\"False\")\n",
    "        return False"
   ]
  },
  {
   "cell_type": "code",
   "execution_count": 2,
   "id": "37820e50",
   "metadata": {},
   "outputs": [
    {
     "name": "stdout",
     "output_type": "stream",
     "text": [
      "Number tested: 5, Response: False \n",
      "Number tested: 0, Response: True \n",
      "Number tested: -2, Response: True \n"
     ]
    }
   ],
   "source": [
    "rand_num = [4432,423,654,-243,0,5,-245,5234342-2352343423]\n",
    "rand_num = [5,0,-2]\n",
    "for i in rand_num:\n",
    "    print(\"Number tested: %d, Response: %s \"% (i,less_than_or_equal_to_zero(i)))\n",
    "    "
   ]
  }
 ],
 "metadata": {
  "kernelspec": {
   "display_name": "Python 3",
   "language": "python",
   "name": "python3"
  },
  "language_info": {
   "codemirror_mode": {
    "name": "ipython",
    "version": 3
   },
   "file_extension": ".py",
   "mimetype": "text/x-python",
   "name": "python",
   "nbconvert_exporter": "python",
   "pygments_lexer": "ipython3",
   "version": "3.7.11"
  }
 },
 "nbformat": 4,
 "nbformat_minor": 5
}
