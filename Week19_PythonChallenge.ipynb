{
 "cells": [
  {
   "cell_type": "markdown",
   "id": "49302349",
   "metadata": {},
   "source": [
    "# Week 19 Python Challenge"
   ]
  },
  {
   "cell_type": "markdown",
   "id": "3bf4f396",
   "metadata": {},
   "source": [
    "<p> Given a list of client emails, create a function that takes in the list as an argument and returns a new list with only the domain of each email.</p>\n",
    "\n",
    "clients = ['brucewayne@gotham.com', 'homer_simpson@springfieldnuclear.com', 'hank_hill@arlenpropane.com', 'petergriffin@pawtucketbrewery.com']\n",
    "\n",
    "\n",
    "Example:\n",
    "- get_domains(clients) = ['gotham.com', 'springfieldnuclear.com', 'arlenpropane.com', 'pawtucketbrewery.com']\n",
    "\n",
    "<i> Hint: Try using regex! </i>"
   ]
  },
  {
   "cell_type": "code",
   "execution_count": 1,
   "id": "c58bdc54",
   "metadata": {},
   "outputs": [],
   "source": [
    "import re"
   ]
  },
  {
   "cell_type": "code",
   "execution_count": 2,
   "id": "ff76e6c6",
   "metadata": {},
   "outputs": [],
   "source": [
    "clients = ['brucewayne@gotham.com', 'homer_simpson@springfieldnuclear.com', 'hank_hill@arlenpropane.com', \n",
    "           'petergriffin@pawtucketbrewery.com']"
   ]
  },
  {
   "cell_type": "markdown",
   "id": "9b301a1e",
   "metadata": {},
   "source": [
    "## Way 1"
   ]
  },
  {
   "cell_type": "code",
   "execution_count": 3,
   "id": "c10bfada",
   "metadata": {},
   "outputs": [],
   "source": [
    "def get_domains_a(clients_list = clients):\n",
    "    pattern = r'@.+' # RegEx Expression\n",
    "    new_list = [] # Empty list to grab domain expression\n",
    "    for email_add in clients_list:\n",
    "#         print(email_add)\n",
    "        right_match = re.search(pattern,email_add)\n",
    "        if right_match:\n",
    "            domain = right_match.group(0)[1:] # due to my RegEx patter, grab 2nd element in string\n",
    "            new_list.append(domain)\n",
    "#             print(right_match.group(0)[1:])\n",
    "    return new_list\n"
   ]
  },
  {
   "cell_type": "code",
   "execution_count": 4,
   "id": "1c149b0b",
   "metadata": {},
   "outputs": [
    {
     "data": {
      "text/plain": [
       "['gotham.com',\n",
       " 'springfieldnuclear.com',\n",
       " 'arlenpropane.com',\n",
       " 'pawtucketbrewery.com']"
      ]
     },
     "execution_count": 4,
     "metadata": {},
     "output_type": "execute_result"
    }
   ],
   "source": [
    "get_domains_a(clients_list = clients)"
   ]
  },
  {
   "cell_type": "markdown",
   "id": "0d70bafb",
   "metadata": {},
   "source": [
    "## Way 2"
   ]
  },
  {
   "cell_type": "code",
   "execution_count": 5,
   "id": "d7ccd1a1",
   "metadata": {},
   "outputs": [],
   "source": [
    "def get_domains_b(clients_list = clients):\n",
    "    pattern = pattern = r'([a-z]+\\.com)' # RegEx Expression\n",
    "    right_list = [re.search(pattern,email_list).group(0) for email_list in clients_list] # Creating list that meet pattern\n",
    "#     domain_list = [domain.group(0) for domain in right_list] # pulling grouping from pattern\n",
    "    return right_list # domain_list"
   ]
  },
  {
   "cell_type": "code",
   "execution_count": 6,
   "id": "aa010a11",
   "metadata": {},
   "outputs": [
    {
     "data": {
      "text/plain": [
       "['gotham.com',\n",
       " 'springfieldnuclear.com',\n",
       " 'arlenpropane.com',\n",
       " 'pawtucketbrewery.com']"
      ]
     },
     "execution_count": 6,
     "metadata": {},
     "output_type": "execute_result"
    }
   ],
   "source": [
    "get_domains_b(clients_list = clients)"
   ]
  },
  {
   "cell_type": "code",
   "execution_count": null,
   "id": "018770ab",
   "metadata": {},
   "outputs": [],
   "source": []
  }
 ],
 "metadata": {
  "kernelspec": {
   "display_name": "Python 3",
   "language": "python",
   "name": "python3"
  },
  "language_info": {
   "codemirror_mode": {
    "name": "ipython",
    "version": 3
   },
   "file_extension": ".py",
   "mimetype": "text/x-python",
   "name": "python",
   "nbconvert_exporter": "python",
   "pygments_lexer": "ipython3",
   "version": "3.7.11"
  }
 },
 "nbformat": 4,
 "nbformat_minor": 5
}
