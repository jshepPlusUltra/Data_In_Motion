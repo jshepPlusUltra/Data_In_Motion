{
 "cells": [
  {
   "cell_type": "markdown",
   "id": "7cdd4bab",
   "metadata": {},
   "source": [
    "# Data In Motion Week 20 Python Challenge \n",
    "\n",
    "<i> <b> Objective </b> </i>\n",
    "\n",
    "1. Create a function that takes a number num and returns its length.\n",
    "\n",
    "Examples:\n",
    "\n",
    "- number_length(10) ➞ 2\n",
    "\n",
    "- number_length(5000) ➞ 4\n",
    "\n",
    "- number_length(0) ➞ 1\n",
    "\n",
    "To submit your entries, make a LinkedIn post with a screenshot of your answers. Or you can use https://carbon.now.sh/ to make a cool snippet. You can explain your thought process on how you approached the challenge or reflections on what you learned. Just make sure to tag the Data in Motion LLC company page.\n"
   ]
  },
  {
   "cell_type": "code",
   "execution_count": 1,
   "id": "a2b158a5",
   "metadata": {},
   "outputs": [],
   "source": [
    "def number_length(num):\n",
    "    if (type(num) == int) | (type(num) == float):\n",
    "        return len(str(num))\n",
    "    else:\n",
    "        return \"Please input a numeric type as a value.\""
   ]
  },
  {
   "cell_type": "code",
   "execution_count": 2,
   "id": "1b9eaeed",
   "metadata": {},
   "outputs": [
    {
     "name": "stdout",
     "output_type": "stream",
     "text": [
      "Input: 10 & Output: 2\n",
      "Input: 5000 & Output: 4\n",
      "Input: 0 & Output: 1\n",
      "Input: 3 & Output: Please input a numeric type as a value.\n"
     ]
    }
   ],
   "source": [
    "values = [10,5000,0,'3']\n",
    "for num_values in values:\n",
    "    print('Input: %s & Output: %s' % (num_values, number_length(num_values)))"
   ]
  },
  {
   "cell_type": "code",
   "execution_count": null,
   "id": "03f61f74",
   "metadata": {},
   "outputs": [],
   "source": []
  }
 ],
 "metadata": {
  "kernelspec": {
   "display_name": "Python 3",
   "language": "python",
   "name": "python3"
  },
  "language_info": {
   "codemirror_mode": {
    "name": "ipython",
    "version": 3
   },
   "file_extension": ".py",
   "mimetype": "text/x-python",
   "name": "python",
   "nbconvert_exporter": "python",
   "pygments_lexer": "ipython3",
   "version": "3.7.11"
  }
 },
 "nbformat": 4,
 "nbformat_minor": 5
}
