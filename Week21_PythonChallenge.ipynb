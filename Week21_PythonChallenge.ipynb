{
 "cells": [
  {
   "cell_type": "markdown",
   "id": "d1e68667",
   "metadata": {},
   "source": [
    "\n",
    "## Week 21 Python Challenge\n",
    "\n",
    "\n",
    "<b><i> Question: </i></b>\n",
    "\n",
    "<div> Write a function called <i>number_compare</i>. This function takes in two parameters (both numbers). If the first is greater than the second, this function returns \"First is greater\", if the second number is greater than the first, the function returns \"Second is greater\", otherwise the function returns \"Numbers are equal\". </div>\n"
   ]
  },
  {
   "cell_type": "code",
   "execution_count": 1,
   "id": "d434f855",
   "metadata": {},
   "outputs": [],
   "source": [
    "def number_compare(num_a,num_b):\n",
    "    conditional = (type(num_a) != bool) & (type(num_a) != str) & (type(num_b) != str) & (type(num_b) != bool)\n",
    "    if conditional:\n",
    "        if num_a > num_b:\n",
    "            return \"First is greater\"\n",
    "        elif num_a < num_b:\n",
    "            return \"Second is greater\"\n",
    "        else:\n",
    "            return \"Numbers are equal\"\n",
    "    else:\n",
    "        return \"Please enter numeric values\""
   ]
  },
  {
   "cell_type": "code",
   "execution_count": 2,
   "id": "660ce84d",
   "metadata": {},
   "outputs": [
    {
     "name": "stdout",
     "output_type": "stream",
     "text": [
      "***Comparison Results for (4, 5)*** Second is greater \n",
      "\n",
      "***Comparison Results for (10, 3)*** First is greater \n",
      "\n",
      "***Comparison Results for (44, 44)*** Numbers are equal \n",
      "\n",
      "***Comparison Results for ('4', 42)*** Please enter numeric values \n",
      "\n",
      "***Comparison Results for (43, '67')*** Please enter numeric values \n",
      "\n",
      "***Comparison Results for ('45', '34')*** Please enter numeric values \n",
      "\n",
      "***Comparison Results for (True, 42)*** Please enter numeric values \n",
      "\n",
      "***Comparison Results for ('3', False)*** Please enter numeric values \n",
      "\n",
      "***Comparison Results for (True, False)*** Please enter numeric values \n",
      "\n",
      "***Comparison Results for (4, 'something')*** Please enter numeric values \n",
      "\n"
     ]
    }
   ],
   "source": [
    "list_nums = [(4,5),(10,3),(44,44),('4',42),(43,'67'),('45','34'),(True,42),('3',False),(True,False),(4,'something')]\n",
    "for first_val,second_val in list_nums:\n",
    "    print(f\"***Comparison Results for {first_val,second_val}*** %s \\n\" % number_compare(first_val,second_val))"
   ]
  },
  {
   "cell_type": "code",
   "execution_count": null,
   "id": "7bef3ee9",
   "metadata": {},
   "outputs": [],
   "source": []
  }
 ],
 "metadata": {
  "kernelspec": {
   "display_name": "Python 3",
   "language": "python",
   "name": "python3"
  },
  "language_info": {
   "codemirror_mode": {
    "name": "ipython",
    "version": 3
   },
   "file_extension": ".py",
   "mimetype": "text/x-python",
   "name": "python",
   "nbconvert_exporter": "python",
   "pygments_lexer": "ipython3",
   "version": "3.7.11"
  }
 },
 "nbformat": 4,
 "nbformat_minor": 5
}
