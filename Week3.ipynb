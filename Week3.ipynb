{
 "cells": [
  {
   "cell_type": "code",
   "execution_count": 1,
   "id": "2f6806d5",
   "metadata": {},
   "outputs": [],
   "source": [
    "import pandas as pd\n",
    "import numpy as np"
   ]
  },
  {
   "cell_type": "code",
   "execution_count": 2,
   "id": "01a54cdb",
   "metadata": {},
   "outputs": [],
   "source": [
    "drinks = pd.read_csv('https://raw.githubusercontent.com/justmarkham/DAT8/master/data/drinks.csv')"
   ]
  },
  {
   "cell_type": "markdown",
   "id": "05262ac9",
   "metadata": {},
   "source": [
    "Challenge Questions\n",
    "\n",
    "1.    Which continent drinks more beer on average?\n",
    "2.    For each continent print the statistics for wine consumption.\n",
    "3.    Print the mean alcohol consumption per continent for every column.\n",
    "4.    Print the median alcohol consumption per continent for every column.\n",
    "\n",
    "To submit your entries, make a LinkedIn post with a screenshot or PDF of your answers. You can explain your thought process if you'd like. Just make sure to tag the Data in Motion LLC company page."
   ]
  },
  {
   "cell_type": "code",
   "execution_count": 3,
   "id": "36fc7006",
   "metadata": {},
   "outputs": [
    {
     "name": "stdout",
     "output_type": "stream",
     "text": [
      "<class 'pandas.core.frame.DataFrame'>\n",
      "RangeIndex: 193 entries, 0 to 192\n",
      "Data columns (total 6 columns):\n",
      " #   Column                        Non-Null Count  Dtype  \n",
      "---  ------                        --------------  -----  \n",
      " 0   country                       193 non-null    object \n",
      " 1   beer_servings                 193 non-null    int64  \n",
      " 2   spirit_servings               193 non-null    int64  \n",
      " 3   wine_servings                 193 non-null    int64  \n",
      " 4   total_litres_of_pure_alcohol  193 non-null    float64\n",
      " 5   continent                     170 non-null    object \n",
      "dtypes: float64(1), int64(3), object(2)\n",
      "memory usage: 9.2+ KB\n"
     ]
    }
   ],
   "source": [
    "drinks.info() # Checking contents of data.\n",
    "# There are some missing values for continent"
   ]
  },
  {
   "cell_type": "code",
   "execution_count": 4,
   "id": "f9383181",
   "metadata": {},
   "outputs": [
    {
     "name": "stdout",
     "output_type": "stream",
     "text": [
      "There are 23 missing values in the continent columns.\n"
     ]
    }
   ],
   "source": [
    "print(\"There are %d missing values in the continent columns.\" % drinks.loc[drinks.continent.isna(),].shape[0])"
   ]
  },
  {
   "cell_type": "markdown",
   "id": "be03a94c",
   "metadata": {},
   "source": [
    "Q1. Which continent drinks more beer on average?"
   ]
  },
  {
   "cell_type": "code",
   "execution_count": 5,
   "id": "183287de",
   "metadata": {},
   "outputs": [
    {
     "data": {
      "text/html": [
       "<div>\n",
       "<style scoped>\n",
       "    .dataframe tbody tr th:only-of-type {\n",
       "        vertical-align: middle;\n",
       "    }\n",
       "\n",
       "    .dataframe tbody tr th {\n",
       "        vertical-align: top;\n",
       "    }\n",
       "\n",
       "    .dataframe thead th {\n",
       "        text-align: right;\n",
       "    }\n",
       "</style>\n",
       "<table border=\"1\" class=\"dataframe\">\n",
       "  <thead>\n",
       "    <tr style=\"text-align: right;\">\n",
       "      <th></th>\n",
       "      <th>beer_servings</th>\n",
       "    </tr>\n",
       "    <tr>\n",
       "      <th>continent</th>\n",
       "      <th></th>\n",
       "    </tr>\n",
       "  </thead>\n",
       "  <tbody>\n",
       "    <tr>\n",
       "      <th>AF</th>\n",
       "      <td>3258</td>\n",
       "    </tr>\n",
       "    <tr>\n",
       "      <th>AS</th>\n",
       "      <td>1630</td>\n",
       "    </tr>\n",
       "    <tr>\n",
       "      <th>EU</th>\n",
       "      <td>8720</td>\n",
       "    </tr>\n",
       "    <tr>\n",
       "      <th>OC</th>\n",
       "      <td>1435</td>\n",
       "    </tr>\n",
       "    <tr>\n",
       "      <th>SA</th>\n",
       "      <td>2101</td>\n",
       "    </tr>\n",
       "  </tbody>\n",
       "</table>\n",
       "</div>"
      ],
      "text/plain": [
       "           beer_servings\n",
       "continent               \n",
       "AF                  3258\n",
       "AS                  1630\n",
       "EU                  8720\n",
       "OC                  1435\n",
       "SA                  2101"
      ]
     },
     "execution_count": 5,
     "metadata": {},
     "output_type": "execute_result"
    }
   ],
   "source": [
    "pd.pivot_table(drinks, values = 'beer_servings', index = ['continent'], aggfunc=np.sum)"
   ]
  },
  {
   "cell_type": "markdown",
   "id": "62a645d8",
   "metadata": {},
   "source": [
    "Q2. For each continent print the statistics for wine consumption."
   ]
  },
  {
   "cell_type": "code",
   "execution_count": 6,
   "id": "d2eb049c",
   "metadata": {},
   "outputs": [
    {
     "data": {
      "text/html": [
       "<div>\n",
       "<style scoped>\n",
       "    .dataframe tbody tr th:only-of-type {\n",
       "        vertical-align: middle;\n",
       "    }\n",
       "\n",
       "    .dataframe tbody tr th {\n",
       "        vertical-align: top;\n",
       "    }\n",
       "\n",
       "    .dataframe thead th {\n",
       "        text-align: right;\n",
       "    }\n",
       "</style>\n",
       "<table border=\"1\" class=\"dataframe\">\n",
       "  <thead>\n",
       "    <tr style=\"text-align: right;\">\n",
       "      <th>continent</th>\n",
       "      <th>AF</th>\n",
       "      <th>AS</th>\n",
       "      <th>EU</th>\n",
       "      <th>OC</th>\n",
       "      <th>SA</th>\n",
       "    </tr>\n",
       "  </thead>\n",
       "  <tbody>\n",
       "    <tr>\n",
       "      <th>count</th>\n",
       "      <td>53.000</td>\n",
       "      <td>44.000</td>\n",
       "      <td>45.000</td>\n",
       "      <td>16.000</td>\n",
       "      <td>12.000</td>\n",
       "    </tr>\n",
       "    <tr>\n",
       "      <th>mean</th>\n",
       "      <td>16.264</td>\n",
       "      <td>9.068</td>\n",
       "      <td>142.222</td>\n",
       "      <td>35.625</td>\n",
       "      <td>62.417</td>\n",
       "    </tr>\n",
       "    <tr>\n",
       "      <th>std</th>\n",
       "      <td>38.846</td>\n",
       "      <td>21.667</td>\n",
       "      <td>97.422</td>\n",
       "      <td>64.556</td>\n",
       "      <td>88.620</td>\n",
       "    </tr>\n",
       "    <tr>\n",
       "      <th>min</th>\n",
       "      <td>0.000</td>\n",
       "      <td>0.000</td>\n",
       "      <td>0.000</td>\n",
       "      <td>0.000</td>\n",
       "      <td>1.000</td>\n",
       "    </tr>\n",
       "    <tr>\n",
       "      <th>25%</th>\n",
       "      <td>1.000</td>\n",
       "      <td>0.000</td>\n",
       "      <td>59.000</td>\n",
       "      <td>1.000</td>\n",
       "      <td>3.000</td>\n",
       "    </tr>\n",
       "    <tr>\n",
       "      <th>50%</th>\n",
       "      <td>2.000</td>\n",
       "      <td>1.000</td>\n",
       "      <td>128.000</td>\n",
       "      <td>8.500</td>\n",
       "      <td>12.000</td>\n",
       "    </tr>\n",
       "    <tr>\n",
       "      <th>75%</th>\n",
       "      <td>13.000</td>\n",
       "      <td>8.000</td>\n",
       "      <td>195.000</td>\n",
       "      <td>23.250</td>\n",
       "      <td>98.500</td>\n",
       "    </tr>\n",
       "    <tr>\n",
       "      <th>max</th>\n",
       "      <td>233.000</td>\n",
       "      <td>123.000</td>\n",
       "      <td>370.000</td>\n",
       "      <td>212.000</td>\n",
       "      <td>221.000</td>\n",
       "    </tr>\n",
       "  </tbody>\n",
       "</table>\n",
       "</div>"
      ],
      "text/plain": [
       "continent       AF       AS       EU       OC       SA\n",
       "count       53.000   44.000   45.000   16.000   12.000\n",
       "mean        16.264    9.068  142.222   35.625   62.417\n",
       "std         38.846   21.667   97.422   64.556   88.620\n",
       "min          0.000    0.000    0.000    0.000    1.000\n",
       "25%          1.000    0.000   59.000    1.000    3.000\n",
       "50%          2.000    1.000  128.000    8.500   12.000\n",
       "75%         13.000    8.000  195.000   23.250   98.500\n",
       "max        233.000  123.000  370.000  212.000  221.000"
      ]
     },
     "execution_count": 6,
     "metadata": {},
     "output_type": "execute_result"
    }
   ],
   "source": [
    "round(drinks.groupby(['continent']).describe()['wine_servings'].T,3)"
   ]
  },
  {
   "cell_type": "code",
   "execution_count": 7,
   "id": "2f311c04",
   "metadata": {},
   "outputs": [
    {
     "data": {
      "text/plain": [
       "' Trying to do TOO MUCH. Since I was able to answer all of the other questions with pivot_tables\\nI decided to try and make that one tool work. I quickly discover that there was a better way. '"
      ]
     },
     "execution_count": 7,
     "metadata": {},
     "output_type": "execute_result"
    }
   ],
   "source": [
    "''' Trying to do TOO MUCH. Since I was able to answer all of the other questions with pivot_tables\n",
    "I decided to try and make that one tool work. I quickly discover that there was a better way. '''\n",
    "# print('#'*117)\n",
    "# print(\"Wrong Way\")\n",
    "\n",
    "# column_names = ['count', 'mean', 'std', 'min', 'Q3','max']\n",
    "# wine_pt = pd.pivot_table(drinks, values = 'wine_servings',\n",
    "#                index = 'continent',\n",
    "#                aggfunc = [\"count\",\n",
    "#                           np.mean, \n",
    "#                           np.std, \n",
    "#                           'min',  \n",
    "#                         lambda x: np.percentile(x, 50), \n",
    "#                        'max'])\n",
    "\n",
    "# wine_pt.rename(columns= {wine_pt.columns[0][0]: column_names[0],\n",
    "#                          wine_pt.columns[1][0]: column_names[1],\n",
    "#                          wine_pt.columns[2][0]: column_names[2],\n",
    "#                          wine_pt.columns[3][0]: column_names[3],\n",
    "#                          wine_pt.columns[4][0]: column_names[4],\n",
    "#                          wine_pt.columns[5][0]: column_names[5]}).T\n",
    "# # print('#'*117)"
   ]
  },
  {
   "cell_type": "markdown",
   "id": "02b1d790",
   "metadata": {},
   "source": [
    "Q3 Print the mean alcohol consumption per continent for every column."
   ]
  },
  {
   "cell_type": "code",
   "execution_count": 12,
   "id": "eeddc57a",
   "metadata": {},
   "outputs": [
    {
     "data": {
      "text/html": [
       "<div>\n",
       "<style scoped>\n",
       "    .dataframe tbody tr th:only-of-type {\n",
       "        vertical-align: middle;\n",
       "    }\n",
       "\n",
       "    .dataframe tbody tr th {\n",
       "        vertical-align: top;\n",
       "    }\n",
       "\n",
       "    .dataframe thead th {\n",
       "        text-align: right;\n",
       "    }\n",
       "</style>\n",
       "<table border=\"1\" class=\"dataframe\">\n",
       "  <thead>\n",
       "    <tr style=\"text-align: right;\">\n",
       "      <th></th>\n",
       "      <th>Mean Alcohol Consumption</th>\n",
       "    </tr>\n",
       "    <tr>\n",
       "      <th>continent</th>\n",
       "      <th></th>\n",
       "    </tr>\n",
       "  </thead>\n",
       "  <tbody>\n",
       "    <tr>\n",
       "      <th>AF</th>\n",
       "      <td>3.007547</td>\n",
       "    </tr>\n",
       "    <tr>\n",
       "      <th>AS</th>\n",
       "      <td>2.170455</td>\n",
       "    </tr>\n",
       "    <tr>\n",
       "      <th>EU</th>\n",
       "      <td>8.617778</td>\n",
       "    </tr>\n",
       "    <tr>\n",
       "      <th>OC</th>\n",
       "      <td>3.381250</td>\n",
       "    </tr>\n",
       "    <tr>\n",
       "      <th>SA</th>\n",
       "      <td>6.308333</td>\n",
       "    </tr>\n",
       "  </tbody>\n",
       "</table>\n",
       "</div>"
      ],
      "text/plain": [
       "           Mean Alcohol Consumption\n",
       "continent                          \n",
       "AF                         3.007547\n",
       "AS                         2.170455\n",
       "EU                         8.617778\n",
       "OC                         3.381250\n",
       "SA                         6.308333"
      ]
     },
     "execution_count": 12,
     "metadata": {},
     "output_type": "execute_result"
    }
   ],
   "source": [
    "mean_al = pd.pivot_table(drinks, values = 'total_litres_of_pure_alcohol',\n",
    "               index = 'continent',\n",
    "               aggfunc = np.mean)\n",
    "mean_al = mean_al.rename(columns = {mean_al.columns[0]:'Mean Alcohol Consumption'})\n",
    "mean_al"
   ]
  },
  {
   "cell_type": "markdown",
   "id": "0905e4bd",
   "metadata": {},
   "source": [
    "Q4 Print the median alcohol consumption per continent for every column."
   ]
  },
  {
   "cell_type": "code",
   "execution_count": 9,
   "id": "781103f9",
   "metadata": {},
   "outputs": [
    {
     "data": {
      "text/html": [
       "<div>\n",
       "<style scoped>\n",
       "    .dataframe tbody tr th:only-of-type {\n",
       "        vertical-align: middle;\n",
       "    }\n",
       "\n",
       "    .dataframe tbody tr th {\n",
       "        vertical-align: top;\n",
       "    }\n",
       "\n",
       "    .dataframe thead th {\n",
       "        text-align: right;\n",
       "    }\n",
       "</style>\n",
       "<table border=\"1\" class=\"dataframe\">\n",
       "  <thead>\n",
       "    <tr style=\"text-align: right;\">\n",
       "      <th></th>\n",
       "      <th>Median Alcohol Consumption</th>\n",
       "    </tr>\n",
       "    <tr>\n",
       "      <th>continent</th>\n",
       "      <th></th>\n",
       "    </tr>\n",
       "  </thead>\n",
       "  <tbody>\n",
       "    <tr>\n",
       "      <th>AF</th>\n",
       "      <td>2.30</td>\n",
       "    </tr>\n",
       "    <tr>\n",
       "      <th>AS</th>\n",
       "      <td>1.20</td>\n",
       "    </tr>\n",
       "    <tr>\n",
       "      <th>EU</th>\n",
       "      <td>10.00</td>\n",
       "    </tr>\n",
       "    <tr>\n",
       "      <th>OC</th>\n",
       "      <td>1.75</td>\n",
       "    </tr>\n",
       "    <tr>\n",
       "      <th>SA</th>\n",
       "      <td>6.85</td>\n",
       "    </tr>\n",
       "  </tbody>\n",
       "</table>\n",
       "</div>"
      ],
      "text/plain": [
       "           Median Alcohol Consumption\n",
       "continent                            \n",
       "AF                               2.30\n",
       "AS                               1.20\n",
       "EU                              10.00\n",
       "OC                               1.75\n",
       "SA                               6.85"
      ]
     },
     "execution_count": 9,
     "metadata": {},
     "output_type": "execute_result"
    }
   ],
   "source": [
    "median_al = pd.pivot_table(drinks, values = 'total_litres_of_pure_alcohol',\n",
    "               index = 'continent',\n",
    "               aggfunc = np.median)\n",
    "median_al.rename(columns = {median_al.columns[0]:'Median Alcohol Consumption'})"
   ]
  }
 ],
 "metadata": {
  "kernelspec": {
   "display_name": "Python 3",
   "language": "python",
   "name": "python3"
  },
  "language_info": {
   "codemirror_mode": {
    "name": "ipython",
    "version": 3
   },
   "file_extension": ".py",
   "mimetype": "text/x-python",
   "name": "python",
   "nbconvert_exporter": "python",
   "pygments_lexer": "ipython3",
   "version": "3.7.11"
  }
 },
 "nbformat": 4,
 "nbformat_minor": 5
}
