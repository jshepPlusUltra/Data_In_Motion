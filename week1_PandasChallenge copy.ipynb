{
 "cells": [
  {
   "cell_type": "markdown",
   "id": "7209df4a",
   "metadata": {},
   "source": [
    "Challenge Questions\n",
    "1. Which was the most-ordered item?\n",
    "2. For the most-ordered item, how many items were ordered?\n",
    "3. What was the most ordered item in the choice_description column?\n",
    "4. How many items were ordered in total?\n",
    "5. Turn the item price into a float\n",
    "6. How much was the revenue for the period in the dataset?\n",
    "7. How many orders were made in the period?\n",
    "8. What is the average revenue amount per order?\n",
    "9. How many different items are sold?"
   ]
  },
  {
   "cell_type": "code",
   "execution_count": 1,
   "id": "4812ca20",
   "metadata": {},
   "outputs": [],
   "source": [
    "import pandas as pd\n",
    "import numpy as np"
   ]
  },
  {
   "cell_type": "code",
   "execution_count": 2,
   "id": "baaa3f94",
   "metadata": {},
   "outputs": [],
   "source": [
    "# Reading data in\n",
    "url = 'https://raw.githubusercontent.com/justmarkham/DAT8/master/data/chipotle.tsv'\n",
    "chipo = pd.read_csv(url, sep = '\\t')"
   ]
  },
  {
   "cell_type": "code",
   "execution_count": 3,
   "id": "92fa30f8",
   "metadata": {},
   "outputs": [
    {
     "name": "stdout",
     "output_type": "stream",
     "text": [
      "<class 'pandas.core.frame.DataFrame'>\n",
      "RangeIndex: 4622 entries, 0 to 4621\n",
      "Data columns (total 5 columns):\n",
      " #   Column              Non-Null Count  Dtype \n",
      "---  ------              --------------  ----- \n",
      " 0   order_id            4622 non-null   int64 \n",
      " 1   quantity            4622 non-null   int64 \n",
      " 2   item_name           4622 non-null   object\n",
      " 3   choice_description  3376 non-null   object\n",
      " 4   item_price          4622 non-null   object\n",
      "dtypes: int64(2), object(3)\n",
      "memory usage: 180.7+ KB\n"
     ]
    },
    {
     "data": {
      "text/html": [
       "<div>\n",
       "<style scoped>\n",
       "    .dataframe tbody tr th:only-of-type {\n",
       "        vertical-align: middle;\n",
       "    }\n",
       "\n",
       "    .dataframe tbody tr th {\n",
       "        vertical-align: top;\n",
       "    }\n",
       "\n",
       "    .dataframe thead th {\n",
       "        text-align: right;\n",
       "    }\n",
       "</style>\n",
       "<table border=\"1\" class=\"dataframe\">\n",
       "  <thead>\n",
       "    <tr style=\"text-align: right;\">\n",
       "      <th></th>\n",
       "      <th>order_id</th>\n",
       "      <th>quantity</th>\n",
       "      <th>item_name</th>\n",
       "      <th>choice_description</th>\n",
       "      <th>item_price</th>\n",
       "    </tr>\n",
       "  </thead>\n",
       "  <tbody>\n",
       "    <tr>\n",
       "      <th>0</th>\n",
       "      <td>1</td>\n",
       "      <td>1</td>\n",
       "      <td>Chips and Fresh Tomato Salsa</td>\n",
       "      <td>NaN</td>\n",
       "      <td>$2.39</td>\n",
       "    </tr>\n",
       "    <tr>\n",
       "      <th>1</th>\n",
       "      <td>1</td>\n",
       "      <td>1</td>\n",
       "      <td>Izze</td>\n",
       "      <td>[Clementine]</td>\n",
       "      <td>$3.39</td>\n",
       "    </tr>\n",
       "    <tr>\n",
       "      <th>2</th>\n",
       "      <td>1</td>\n",
       "      <td>1</td>\n",
       "      <td>Nantucket Nectar</td>\n",
       "      <td>[Apple]</td>\n",
       "      <td>$3.39</td>\n",
       "    </tr>\n",
       "    <tr>\n",
       "      <th>3</th>\n",
       "      <td>1</td>\n",
       "      <td>1</td>\n",
       "      <td>Chips and Tomatillo-Green Chili Salsa</td>\n",
       "      <td>NaN</td>\n",
       "      <td>$2.39</td>\n",
       "    </tr>\n",
       "    <tr>\n",
       "      <th>4</th>\n",
       "      <td>2</td>\n",
       "      <td>2</td>\n",
       "      <td>Chicken Bowl</td>\n",
       "      <td>[Tomatillo-Red Chili Salsa (Hot), [Black Beans...</td>\n",
       "      <td>$16.98</td>\n",
       "    </tr>\n",
       "  </tbody>\n",
       "</table>\n",
       "</div>"
      ],
      "text/plain": [
       "   order_id  quantity                              item_name  \\\n",
       "0         1         1           Chips and Fresh Tomato Salsa   \n",
       "1         1         1                                   Izze   \n",
       "2         1         1                       Nantucket Nectar   \n",
       "3         1         1  Chips and Tomatillo-Green Chili Salsa   \n",
       "4         2         2                           Chicken Bowl   \n",
       "\n",
       "                                  choice_description item_price  \n",
       "0                                                NaN     $2.39   \n",
       "1                                       [Clementine]     $3.39   \n",
       "2                                            [Apple]     $3.39   \n",
       "3                                                NaN     $2.39   \n",
       "4  [Tomatillo-Red Chili Salsa (Hot), [Black Beans...    $16.98   "
      ]
     },
     "execution_count": 3,
     "metadata": {},
     "output_type": "execute_result"
    }
   ],
   "source": [
    "# Data Exploration\n",
    "chipo.info()\n",
    "chipo.head()"
   ]
  },
  {
   "cell_type": "markdown",
   "id": "eed2e1d0",
   "metadata": {},
   "source": [
    "## Question 1\n",
    "### Which was the most-ordered item?"
   ]
  },
  {
   "cell_type": "code",
   "execution_count": 4,
   "id": "a3189d0d",
   "metadata": {},
   "outputs": [
    {
     "name": "stdout",
     "output_type": "stream",
     "text": [
      "The most-ordered item was Chicken Bowl.\n"
     ]
    }
   ],
   "source": [
    "# chipo['item_name'].unique()\n",
    "question1 = chipo.groupby(['item_name']).count().sort_values(by='order_id', ascending=False)['order_id']\n",
    "print('The most-ordered item was %s.' % (question1.index[0]))"
   ]
  },
  {
   "cell_type": "markdown",
   "id": "efd74e90",
   "metadata": {},
   "source": [
    "## Question 2\n",
    "### For the most-ordered item, how many items were ordered?"
   ]
  },
  {
   "cell_type": "code",
   "execution_count": 5,
   "id": "8fe688fb",
   "metadata": {},
   "outputs": [
    {
     "name": "stdout",
     "output_type": "stream",
     "text": [
      "Chicken Bowl was ordered 726 times.\n"
     ]
    }
   ],
   "source": [
    "print('%s was ordered %d times.' % (question1.index[0], question1[0]))"
   ]
  },
  {
   "cell_type": "markdown",
   "id": "14177063",
   "metadata": {},
   "source": [
    "## Question 3\n",
    "### What was the most ordered item in the choice_description column?"
   ]
  },
  {
   "cell_type": "code",
   "execution_count": 6,
   "id": "1781d24e",
   "metadata": {},
   "outputs": [
    {
     "name": "stdout",
     "output_type": "stream",
     "text": [
      "The most-ordered item in the choice_description column was Diet Coke.\n",
      "There were 134 Diet Coke ordered under the choice_description column.\n"
     ]
    }
   ],
   "source": [
    "question3 = chipo.groupby(['choice_description']).count().sort_values(by='order_id', ascending=False)['order_id']\n",
    "print('The most-ordered item in the choice_description column was %s.' % (question3.index[0][1:-1])) # Removing the brackets\n",
    "print(\"There were %d %s ordered under the choice_description column.\" % (question3[0], question3.index[0][1:-1]))"
   ]
  },
  {
   "cell_type": "markdown",
   "id": "50f11f20",
   "metadata": {},
   "source": [
    "## Question 4\n",
    "### How many items were ordered in total?"
   ]
  },
  {
   "cell_type": "code",
   "execution_count": 7,
   "id": "5fdd224c",
   "metadata": {},
   "outputs": [
    {
     "name": "stdout",
     "output_type": "stream",
     "text": [
      "There were 1044 ordered items.\n"
     ]
    }
   ],
   "source": [
    "tot_ordered = len(chipo['choice_description'].unique())\n",
    "print(\"There were %d ordered items.\" % tot_ordered)"
   ]
  },
  {
   "cell_type": "markdown",
   "id": "30ba0fb9",
   "metadata": {},
   "source": [
    "## Question 5 \n",
    "### Turn the item price into a float"
   ]
  },
  {
   "cell_type": "code",
   "execution_count": 8,
   "id": "1217d0d7",
   "metadata": {},
   "outputs": [
    {
     "name": "stdout",
     "output_type": "stream",
     "text": [
      "<class 'pandas.core.frame.DataFrame'>\n",
      "RangeIndex: 4622 entries, 0 to 4621\n",
      "Data columns (total 5 columns):\n",
      " #   Column              Non-Null Count  Dtype  \n",
      "---  ------              --------------  -----  \n",
      " 0   order_id            4622 non-null   int64  \n",
      " 1   quantity            4622 non-null   int64  \n",
      " 2   item_name           4622 non-null   object \n",
      " 3   choice_description  3376 non-null   object \n",
      " 4   item_price          4622 non-null   float64\n",
      "dtypes: float64(1), int64(2), object(2)\n",
      "memory usage: 180.7+ KB\n"
     ]
    }
   ],
   "source": [
    "empty_list = []\n",
    "for i in list(chipo['item_price'].values):\n",
    "#     print(float(i[1:]))\n",
    "    try: # Ensuring the dataframe isn't rewritten, in case I wanted to rerun the code.\n",
    "        empty_list.append(float(i[1:])) # Grabbing all of the elements after the \"$\"\n",
    "        chipo['item_price'] = pd.Series(empty_list) # \n",
    "    except IndexError:\n",
    "        print(\"Error! You have already ran this code. \\n\")\n",
    "        break\n",
    "\n",
    "chipo.info()"
   ]
  },
  {
   "cell_type": "markdown",
   "id": "41c3ad11",
   "metadata": {},
   "source": [
    "## Question 6\n",
    "### How much was the revenue for the period in the dataset?"
   ]
  },
  {
   "cell_type": "code",
   "execution_count": 9,
   "id": "9ab42b53",
   "metadata": {},
   "outputs": [
    {
     "name": "stdout",
     "output_type": "stream",
     "text": [
      "The total revenue is $34500.16\n"
     ]
    }
   ],
   "source": [
    "print(\"The total revenue is $%.2f\" % chipo['item_price'].sum())"
   ]
  },
  {
   "cell_type": "markdown",
   "id": "04578969",
   "metadata": {},
   "source": [
    "## Question 7\n",
    "### How many orders were made in the period?\n",
    "### Assumption: 'quantity' represents the number of orders made for a particular item."
   ]
  },
  {
   "cell_type": "code",
   "execution_count": 10,
   "id": "fc166477",
   "metadata": {},
   "outputs": [
    {
     "name": "stdout",
     "output_type": "stream",
     "text": [
      "There were 4972 orders made for this period.\n"
     ]
    }
   ],
   "source": [
    "print('There were %d orders made for this period.' % chipo['quantity'].sum())"
   ]
  },
  {
   "cell_type": "markdown",
   "id": "1707a104",
   "metadata": {},
   "source": [
    "## Question 8\n",
    "### What is the average revenue amount per order?"
   ]
  },
  {
   "cell_type": "code",
   "execution_count": 11,
   "id": "58f0e245",
   "metadata": {},
   "outputs": [
    {
     "name": "stdout",
     "output_type": "stream",
     "text": [
      "The average rev per order is:\n"
     ]
    },
    {
     "data": {
      "text/html": [
       "<div>\n",
       "<style scoped>\n",
       "    .dataframe tbody tr th:only-of-type {\n",
       "        vertical-align: middle;\n",
       "    }\n",
       "\n",
       "    .dataframe tbody tr th {\n",
       "        vertical-align: top;\n",
       "    }\n",
       "\n",
       "    .dataframe thead th {\n",
       "        text-align: right;\n",
       "    }\n",
       "</style>\n",
       "<table border=\"1\" class=\"dataframe\">\n",
       "  <thead>\n",
       "    <tr style=\"text-align: right;\">\n",
       "      <th>quantity</th>\n",
       "      <th>1</th>\n",
       "      <th>2</th>\n",
       "      <th>3</th>\n",
       "      <th>4</th>\n",
       "      <th>5</th>\n",
       "      <th>7</th>\n",
       "      <th>8</th>\n",
       "      <th>10</th>\n",
       "      <th>15</th>\n",
       "    </tr>\n",
       "  </thead>\n",
       "  <tbody>\n",
       "    <tr>\n",
       "      <th>item_price</th>\n",
       "      <td>7.175901</td>\n",
       "      <td>11.843393</td>\n",
       "      <td>13.373571</td>\n",
       "      <td>13.096</td>\n",
       "      <td>7.5</td>\n",
       "      <td>10.5</td>\n",
       "      <td>13.52</td>\n",
       "      <td>15.0</td>\n",
       "      <td>44.25</td>\n",
       "    </tr>\n",
       "  </tbody>\n",
       "</table>\n",
       "</div>"
      ],
      "text/plain": [
       "quantity          1          2          3       4    5     7      8     10  \\\n",
       "item_price  7.175901  11.843393  13.373571  13.096  7.5  10.5  13.52  15.0   \n",
       "\n",
       "quantity       15  \n",
       "item_price  44.25  "
      ]
     },
     "execution_count": 11,
     "metadata": {},
     "output_type": "execute_result"
    }
   ],
   "source": [
    "# sorted(chipo['quantity'].unique()) # Verifying that I was looking at the correct list of unique 'quantity'\n",
    "ave_rev_per_order = pd.pivot_table(chipo, values = 'item_price', columns = 'quantity', aggfunc= np.mean)\n",
    "print(\"The average rev per order is:\")\n",
    "ave_rev_per_order"
   ]
  },
  {
   "cell_type": "markdown",
   "id": "feec59a3",
   "metadata": {},
   "source": [
    "## Question 9 \n",
    "### How many different items are sold?"
   ]
  },
  {
   "cell_type": "code",
   "execution_count": 12,
   "id": "8f35e16d",
   "metadata": {},
   "outputs": [
    {
     "name": "stdout",
     "output_type": "stream",
     "text": [
      "There are 50 different items sold\n"
     ]
    }
   ],
   "source": [
    "print(\"There are %d different items sold\" % len(chipo['item_name'].unique()))"
   ]
  }
 ],
 "metadata": {
  "kernelspec": {
   "display_name": "Python 3",
   "language": "python",
   "name": "python3"
  },
  "language_info": {
   "codemirror_mode": {
    "name": "ipython",
    "version": 3
   },
   "file_extension": ".py",
   "mimetype": "text/x-python",
   "name": "python",
   "nbconvert_exporter": "python",
   "pygments_lexer": "ipython3",
   "version": "3.7.11"
  }
 },
 "nbformat": 4,
 "nbformat_minor": 5
}
